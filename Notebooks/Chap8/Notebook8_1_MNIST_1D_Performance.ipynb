{
  "cells": [
    {
      "cell_type": "markdown",
      "metadata": {
        "id": "view-in-github",
        "colab_type": "text"
      },
      "source": [
        "<a href=\"https://colab.research.google.com/github/bmorales16/CSCI167/blob/main/Notebook8_1_MNIST_1D_Performance.ipynb\" target=\"_parent\"><img src=\"https://colab.research.google.com/assets/colab-badge.svg\" alt=\"Open In Colab\"/></a>"
      ]
    },
    {
      "cell_type": "markdown",
      "metadata": {
        "id": "L6chybAVFJW2"
      },
      "source": [
        "# **Notebook 8.1: MNIST_1D_Performance**\n",
        "\n",
        "This notebook runs a simple neural network on the MNIST1D dataset as in figure 8.2a. It uses code from https://github.com/greydanus/mnist1d to generate the data.\n",
        "\n",
        "Work through the cells below, running each cell in turn. In various places you will see the words \"TODO\". Follow the instructions at these places and make predictions about what is going to happen or write code to complete the functions.\n",
        "\n",
        "Contact me at udlbookmail@gmail.com if you find any mistakes or have any suggestions."
      ]
    },
    {
      "cell_type": "code",
      "execution_count": 1,
      "metadata": {
        "id": "ifVjS4cTOqKz",
        "colab": {
          "base_uri": "https://localhost:8080/"
        },
        "outputId": "3b4bfc37-9b19-4dfc-9d54-0860392295d5"
      },
      "outputs": [
        {
          "output_type": "stream",
          "name": "stdout",
          "text": [
            "Collecting git+https://github.com/greydanus/mnist1d\n",
            "  Cloning https://github.com/greydanus/mnist1d to /tmp/pip-req-build-83ied5sv\n",
            "  Running command git clone --filter=blob:none --quiet https://github.com/greydanus/mnist1d /tmp/pip-req-build-83ied5sv\n",
            "  Resolved https://github.com/greydanus/mnist1d to commit 7878d96082abd200c546a07a4101fa90b30fdf7e\n",
            "  Installing build dependencies ... \u001b[?25l\u001b[?25hdone\n",
            "  Getting requirements to build wheel ... \u001b[?25l\u001b[?25hdone\n",
            "  Preparing metadata (pyproject.toml) ... \u001b[?25l\u001b[?25hdone\n",
            "Requirement already satisfied: requests in /usr/local/lib/python3.12/dist-packages (from mnist1d==0.0.2.post16) (2.32.4)\n",
            "Requirement already satisfied: numpy in /usr/local/lib/python3.12/dist-packages (from mnist1d==0.0.2.post16) (2.0.2)\n",
            "Requirement already satisfied: matplotlib in /usr/local/lib/python3.12/dist-packages (from mnist1d==0.0.2.post16) (3.10.0)\n",
            "Requirement already satisfied: scipy in /usr/local/lib/python3.12/dist-packages (from mnist1d==0.0.2.post16) (1.16.2)\n",
            "Requirement already satisfied: contourpy>=1.0.1 in /usr/local/lib/python3.12/dist-packages (from matplotlib->mnist1d==0.0.2.post16) (1.3.3)\n",
            "Requirement already satisfied: cycler>=0.10 in /usr/local/lib/python3.12/dist-packages (from matplotlib->mnist1d==0.0.2.post16) (0.12.1)\n",
            "Requirement already satisfied: fonttools>=4.22.0 in /usr/local/lib/python3.12/dist-packages (from matplotlib->mnist1d==0.0.2.post16) (4.60.1)\n",
            "Requirement already satisfied: kiwisolver>=1.3.1 in /usr/local/lib/python3.12/dist-packages (from matplotlib->mnist1d==0.0.2.post16) (1.4.9)\n",
            "Requirement already satisfied: packaging>=20.0 in /usr/local/lib/python3.12/dist-packages (from matplotlib->mnist1d==0.0.2.post16) (25.0)\n",
            "Requirement already satisfied: pillow>=8 in /usr/local/lib/python3.12/dist-packages (from matplotlib->mnist1d==0.0.2.post16) (11.3.0)\n",
            "Requirement already satisfied: pyparsing>=2.3.1 in /usr/local/lib/python3.12/dist-packages (from matplotlib->mnist1d==0.0.2.post16) (3.2.5)\n",
            "Requirement already satisfied: python-dateutil>=2.7 in /usr/local/lib/python3.12/dist-packages (from matplotlib->mnist1d==0.0.2.post16) (2.9.0.post0)\n",
            "Requirement already satisfied: charset_normalizer<4,>=2 in /usr/local/lib/python3.12/dist-packages (from requests->mnist1d==0.0.2.post16) (3.4.3)\n",
            "Requirement already satisfied: idna<4,>=2.5 in /usr/local/lib/python3.12/dist-packages (from requests->mnist1d==0.0.2.post16) (3.10)\n",
            "Requirement already satisfied: urllib3<3,>=1.21.1 in /usr/local/lib/python3.12/dist-packages (from requests->mnist1d==0.0.2.post16) (2.5.0)\n",
            "Requirement already satisfied: certifi>=2017.4.17 in /usr/local/lib/python3.12/dist-packages (from requests->mnist1d==0.0.2.post16) (2025.10.5)\n",
            "Requirement already satisfied: six>=1.5 in /usr/local/lib/python3.12/dist-packages (from python-dateutil>=2.7->matplotlib->mnist1d==0.0.2.post16) (1.17.0)\n",
            "Building wheels for collected packages: mnist1d\n",
            "  Building wheel for mnist1d (pyproject.toml) ... \u001b[?25l\u001b[?25hdone\n",
            "  Created wheel for mnist1d: filename=mnist1d-0.0.2.post16-py3-none-any.whl size=14665 sha256=ec609d06e51901cec3befc9b1effe2c2f6df1c8c4a781162311fd857b328e6ee\n",
            "  Stored in directory: /tmp/pip-ephem-wheel-cache-u0_nqvst/wheels/18/40/b6/29381fee9b4c80fdbc304d52bb065a7286bbcca5ca2b8737c0\n",
            "Successfully built mnist1d\n",
            "Installing collected packages: mnist1d\n",
            "Successfully installed mnist1d-0.0.2.post16\n"
          ]
        }
      ],
      "source": [
        "# Run this if you're in a Colab to install MNIST 1D repository\n",
        "%pip install git+https://github.com/greydanus/mnist1d"
      ]
    },
    {
      "cell_type": "code",
      "execution_count": 2,
      "metadata": {
        "id": "qyE7G1StPIqO"
      },
      "outputs": [],
      "source": [
        "import torch, torch.nn as nn\n",
        "from torch.utils.data import TensorDataset, DataLoader\n",
        "from torch.optim.lr_scheduler import StepLR\n",
        "import numpy as np\n",
        "import matplotlib.pyplot as plt\n",
        "import mnist1d"
      ]
    },
    {
      "cell_type": "markdown",
      "metadata": {
        "id": "F7LNq72SP6jO"
      },
      "source": [
        "Let's generate a training and test dataset using the MNIST1D code.  The dataset gets saved as a .pkl file so it doesn't have to be regenerated each time."
      ]
    },
    {
      "cell_type": "code",
      "execution_count": 3,
      "metadata": {
        "id": "YLxf7dJfPaqw",
        "colab": {
          "base_uri": "https://localhost:8080/"
        },
        "outputId": "8f7d84ca-3b87-46b3-f0ce-a3f115204dab"
      },
      "outputs": [
        {
          "output_type": "stream",
          "name": "stdout",
          "text": [
            "Did or could not load data from ./mnist1d_data.pkl. Rebuilding dataset...\n",
            "Examples in training set: 4000\n",
            "Examples in test set: 1000\n",
            "Length of each example: 40\n"
          ]
        }
      ],
      "source": [
        "args = mnist1d.data.get_dataset_args()\n",
        "data = mnist1d.data.get_dataset(args, path='./mnist1d_data.pkl', download=False, regenerate=False)\n",
        "\n",
        "# The training and test input and outputs are in\n",
        "# data['x'], data['y'], data['x_test'], and data['y_test']\n",
        "print(\"Examples in training set: {}\".format(len(data['y'])))\n",
        "print(\"Examples in test set: {}\".format(len(data['y_test'])))\n",
        "print(\"Length of each example: {}\".format(data['x'].shape[-1]))"
      ]
    },
    {
      "cell_type": "code",
      "execution_count": 9,
      "metadata": {
        "id": "FxaB5vc0uevl",
        "colab": {
          "base_uri": "https://localhost:8080/"
        },
        "outputId": "fa122da7-eff4-4110-8064-437e37c309fa"
      },
      "outputs": [
        {
          "output_type": "execute_result",
          "data": {
            "text/plain": [
              "Sequential(\n",
              "  (0): Linear(in_features=40, out_features=200, bias=True)\n",
              "  (1): ReLU()\n",
              "  (2): Linear(in_features=200, out_features=200, bias=True)\n",
              "  (3): ReLU()\n",
              "  (4): Linear(in_features=200, out_features=10, bias=True)\n",
              ")"
            ]
          },
          "metadata": {},
          "execution_count": 9
        }
      ],
      "source": [
        "D_i = 40    # Input dimensions\n",
        "D_k = 200   # Hidden dimensions\n",
        "D_o = 10    # Output dimensions\n",
        "# TODO:\n",
        "# Define a model with two hidden layers of size 100\n",
        "# And ReLU activations between them\n",
        "# Replace this line (see Figure 7.8 of book for help):\n",
        "model = torch.nn.Sequential(\n",
        "    torch.nn.Linear(D_i, D_k),\n",
        "    torch.nn.ReLU(),\n",
        "    torch.nn.Linear(D_k, D_k),\n",
        "    torch.nn.ReLU(),\n",
        "    torch.nn.Linear(D_k, D_o)\n",
        ")\n",
        "\n",
        "\n",
        "def weights_init(layer_in):\n",
        "  # TODO:\n",
        "  # Initialize the parameters with He initialization\n",
        "  # Replace this line (see figure 7.8 of book for help)\n",
        "  if isinstance(layer_in, nn.Linear):\n",
        "    torch.nn.init.kaiming_uniform_(layer_in.weight, mode='fan_in', nonlinearity='relu')\n",
        "    torch.nn.init.zeros_(layer_in.bias)\n",
        "\n",
        "\n",
        "# Call the function you just defined\n",
        "model.apply(weights_init)\n"
      ]
    },
    {
      "cell_type": "code",
      "execution_count": 10,
      "metadata": {
        "id": "_rX6N3VyyQTY",
        "colab": {
          "base_uri": "https://localhost:8080/"
        },
        "outputId": "a4cac07f-be80-4671-a210-241ed272fdfb"
      },
      "outputs": [
        {
          "output_type": "stream",
          "name": "stdout",
          "text": [
            "Epoch     0, train loss 1.438511, train error 53.12,  test loss 1.561094, test error 61.00\n",
            "Epoch     1, train loss 1.203042, train error 44.83,  test loss 1.397316, test error 55.20\n",
            "Epoch     2, train loss 0.980832, train error 35.20,  test loss 1.276384, test error 48.40\n",
            "Epoch     3, train loss 0.817716, train error 28.35,  test loss 1.191596, test error 45.90\n",
            "Epoch     4, train loss 0.696341, train error 23.07,  test loss 1.175734, test error 44.20\n",
            "Epoch     5, train loss 0.578410, train error 19.28,  test loss 1.106802, test error 41.70\n",
            "Epoch     6, train loss 0.459995, train error 13.65,  test loss 1.060824, test error 40.50\n",
            "Epoch     7, train loss 0.400316, train error 11.60,  test loss 1.110522, test error 40.10\n",
            "Epoch     8, train loss 0.307925, train error 7.70,  test loss 1.073883, test error 37.30\n",
            "Epoch     9, train loss 0.242932, train error 6.15,  test loss 1.035712, test error 35.50\n",
            "Epoch    10, train loss 0.168800, train error 2.22,  test loss 1.059687, test error 37.00\n",
            "Epoch    11, train loss 0.134859, train error 0.95,  test loss 1.046097, test error 36.70\n",
            "Epoch    12, train loss 0.113093, train error 0.50,  test loss 1.057764, test error 36.30\n",
            "Epoch    13, train loss 0.101226, train error 0.65,  test loss 1.103077, test error 36.20\n",
            "Epoch    14, train loss 0.083148, train error 0.18,  test loss 1.096648, test error 35.00\n",
            "Epoch    15, train loss 0.072125, train error 0.05,  test loss 1.122641, test error 37.00\n",
            "Epoch    16, train loss 0.065944, train error 0.00,  test loss 1.162022, test error 35.50\n",
            "Epoch    17, train loss 0.056238, train error 0.00,  test loss 1.151368, test error 36.00\n",
            "Epoch    18, train loss 0.051402, train error 0.00,  test loss 1.167041, test error 36.20\n",
            "Epoch    19, train loss 0.045769, train error 0.00,  test loss 1.203292, test error 36.10\n",
            "Epoch    20, train loss 0.040183, train error 0.00,  test loss 1.188297, test error 35.60\n",
            "Epoch    21, train loss 0.038226, train error 0.00,  test loss 1.191377, test error 35.90\n",
            "Epoch    22, train loss 0.036646, train error 0.00,  test loss 1.201996, test error 36.00\n",
            "Epoch    23, train loss 0.034929, train error 0.00,  test loss 1.211261, test error 35.90\n",
            "Epoch    24, train loss 0.033353, train error 0.00,  test loss 1.219234, test error 35.70\n",
            "Epoch    25, train loss 0.031843, train error 0.00,  test loss 1.221080, test error 35.80\n",
            "Epoch    26, train loss 0.031299, train error 0.00,  test loss 1.232283, test error 35.70\n",
            "Epoch    27, train loss 0.029398, train error 0.00,  test loss 1.232056, test error 35.70\n",
            "Epoch    28, train loss 0.028353, train error 0.00,  test loss 1.240480, test error 35.90\n",
            "Epoch    29, train loss 0.027246, train error 0.00,  test loss 1.246290, test error 36.00\n",
            "Epoch    30, train loss 0.026633, train error 0.00,  test loss 1.250824, test error 36.20\n",
            "Epoch    31, train loss 0.026130, train error 0.00,  test loss 1.252503, test error 36.00\n",
            "Epoch    32, train loss 0.025683, train error 0.00,  test loss 1.253599, test error 36.20\n",
            "Epoch    33, train loss 0.025280, train error 0.00,  test loss 1.258590, test error 35.90\n",
            "Epoch    34, train loss 0.024825, train error 0.00,  test loss 1.261297, test error 36.10\n",
            "Epoch    35, train loss 0.024430, train error 0.00,  test loss 1.263503, test error 36.20\n",
            "Epoch    36, train loss 0.023984, train error 0.00,  test loss 1.265303, test error 36.30\n",
            "Epoch    37, train loss 0.023685, train error 0.00,  test loss 1.267549, test error 36.10\n",
            "Epoch    38, train loss 0.023233, train error 0.00,  test loss 1.270082, test error 36.30\n",
            "Epoch    39, train loss 0.022871, train error 0.00,  test loss 1.273787, test error 36.30\n",
            "Epoch    40, train loss 0.022651, train error 0.00,  test loss 1.275048, test error 36.50\n",
            "Epoch    41, train loss 0.022469, train error 0.00,  test loss 1.276855, test error 36.20\n",
            "Epoch    42, train loss 0.022292, train error 0.00,  test loss 1.276727, test error 36.20\n",
            "Epoch    43, train loss 0.022122, train error 0.00,  test loss 1.278586, test error 36.30\n",
            "Epoch    44, train loss 0.021952, train error 0.00,  test loss 1.280091, test error 36.30\n",
            "Epoch    45, train loss 0.021782, train error 0.00,  test loss 1.280444, test error 36.20\n",
            "Epoch    46, train loss 0.021623, train error 0.00,  test loss 1.282184, test error 36.20\n",
            "Epoch    47, train loss 0.021457, train error 0.00,  test loss 1.283640, test error 36.50\n",
            "Epoch    48, train loss 0.021298, train error 0.00,  test loss 1.285127, test error 36.10\n",
            "Epoch    49, train loss 0.021140, train error 0.00,  test loss 1.286386, test error 36.20\n",
            "Epoch    50, train loss 0.021054, train error 0.00,  test loss 1.287056, test error 36.20\n",
            "Epoch    51, train loss 0.020975, train error 0.00,  test loss 1.287004, test error 36.30\n",
            "Epoch    52, train loss 0.020899, train error 0.00,  test loss 1.288079, test error 36.30\n",
            "Epoch    53, train loss 0.020822, train error 0.00,  test loss 1.288147, test error 36.10\n",
            "Epoch    54, train loss 0.020745, train error 0.00,  test loss 1.288717, test error 36.20\n",
            "Epoch    55, train loss 0.020671, train error 0.00,  test loss 1.289513, test error 36.30\n",
            "Epoch    56, train loss 0.020597, train error 0.00,  test loss 1.290057, test error 36.30\n",
            "Epoch    57, train loss 0.020521, train error 0.00,  test loss 1.290748, test error 36.20\n",
            "Epoch    58, train loss 0.020447, train error 0.00,  test loss 1.291581, test error 36.40\n",
            "Epoch    59, train loss 0.020372, train error 0.00,  test loss 1.291706, test error 36.10\n",
            "Epoch    60, train loss 0.020334, train error 0.00,  test loss 1.292189, test error 36.20\n",
            "Epoch    61, train loss 0.020297, train error 0.00,  test loss 1.292699, test error 36.20\n",
            "Epoch    62, train loss 0.020260, train error 0.00,  test loss 1.292918, test error 36.20\n",
            "Epoch    63, train loss 0.020224, train error 0.00,  test loss 1.293067, test error 36.10\n",
            "Epoch    64, train loss 0.020188, train error 0.00,  test loss 1.293517, test error 36.10\n",
            "Epoch    65, train loss 0.020153, train error 0.00,  test loss 1.293670, test error 36.20\n",
            "Epoch    66, train loss 0.020116, train error 0.00,  test loss 1.293769, test error 36.20\n",
            "Epoch    67, train loss 0.020080, train error 0.00,  test loss 1.294181, test error 36.20\n",
            "Epoch    68, train loss 0.020044, train error 0.00,  test loss 1.294465, test error 36.20\n",
            "Epoch    69, train loss 0.020009, train error 0.00,  test loss 1.294739, test error 36.20\n",
            "Epoch    70, train loss 0.019991, train error 0.00,  test loss 1.294951, test error 36.20\n",
            "Epoch    71, train loss 0.019973, train error 0.00,  test loss 1.295130, test error 36.20\n",
            "Epoch    72, train loss 0.019955, train error 0.00,  test loss 1.295168, test error 36.20\n",
            "Epoch    73, train loss 0.019938, train error 0.00,  test loss 1.295345, test error 36.20\n",
            "Epoch    74, train loss 0.019920, train error 0.00,  test loss 1.295527, test error 36.20\n",
            "Epoch    75, train loss 0.019902, train error 0.00,  test loss 1.295649, test error 36.20\n",
            "Epoch    76, train loss 0.019885, train error 0.00,  test loss 1.295756, test error 36.20\n",
            "Epoch    77, train loss 0.019867, train error 0.00,  test loss 1.296006, test error 36.20\n",
            "Epoch    78, train loss 0.019850, train error 0.00,  test loss 1.296032, test error 36.20\n",
            "Epoch    79, train loss 0.019832, train error 0.00,  test loss 1.296167, test error 36.20\n",
            "Epoch    80, train loss 0.019823, train error 0.00,  test loss 1.296264, test error 36.20\n",
            "Epoch    81, train loss 0.019815, train error 0.00,  test loss 1.296362, test error 36.20\n",
            "Epoch    82, train loss 0.019806, train error 0.00,  test loss 1.296431, test error 36.20\n",
            "Epoch    83, train loss 0.019797, train error 0.00,  test loss 1.296484, test error 36.20\n",
            "Epoch    84, train loss 0.019788, train error 0.00,  test loss 1.296584, test error 36.20\n",
            "Epoch    85, train loss 0.019780, train error 0.00,  test loss 1.296547, test error 36.20\n",
            "Epoch    86, train loss 0.019771, train error 0.00,  test loss 1.296698, test error 36.20\n",
            "Epoch    87, train loss 0.019762, train error 0.00,  test loss 1.296768, test error 36.20\n",
            "Epoch    88, train loss 0.019754, train error 0.00,  test loss 1.296875, test error 36.20\n",
            "Epoch    89, train loss 0.019745, train error 0.00,  test loss 1.296965, test error 36.20\n",
            "Epoch    90, train loss 0.019741, train error 0.00,  test loss 1.296976, test error 36.20\n",
            "Epoch    91, train loss 0.019736, train error 0.00,  test loss 1.297008, test error 36.20\n",
            "Epoch    92, train loss 0.019732, train error 0.00,  test loss 1.297085, test error 36.20\n",
            "Epoch    93, train loss 0.019728, train error 0.00,  test loss 1.297112, test error 36.20\n",
            "Epoch    94, train loss 0.019723, train error 0.00,  test loss 1.297136, test error 36.20\n",
            "Epoch    95, train loss 0.019719, train error 0.00,  test loss 1.297142, test error 36.20\n",
            "Epoch    96, train loss 0.019715, train error 0.00,  test loss 1.297188, test error 36.20\n",
            "Epoch    97, train loss 0.019710, train error 0.00,  test loss 1.297267, test error 36.20\n",
            "Epoch    98, train loss 0.019706, train error 0.00,  test loss 1.297258, test error 36.20\n",
            "Epoch    99, train loss 0.019702, train error 0.00,  test loss 1.297275, test error 36.20\n"
          ]
        }
      ],
      "source": [
        "# choose cross entropy loss function (equation 5.24)\n",
        "loss_function = torch.nn.CrossEntropyLoss()\n",
        "# construct SGD optimizer and initialize learning rate and momentum\n",
        "optimizer = torch.optim.SGD(model.parameters(), lr = 0.05, momentum=0.9)\n",
        "# object that decreases learning rate by half every 10 epochs\n",
        "scheduler = StepLR(optimizer, step_size=10, gamma=0.5)\n",
        "x_train = torch.tensor(data['x'].astype('float32'))\n",
        "y_train = torch.tensor(data['y'].transpose().astype('int64'))\n",
        "x_test= torch.tensor(data['x_test'].astype('float32'))\n",
        "y_test = torch.tensor(data['y_test'].astype('int64'))\n",
        "\n",
        "# load the data into a class that creates the batches\n",
        "data_loader = DataLoader(TensorDataset(x_train,y_train), batch_size=100, shuffle=True, worker_init_fn=np.random.seed(1))\n",
        "\n",
        "# Initialize model weights\n",
        "model.apply(weights_init)\n",
        "\n",
        "# loop over the dataset n_epoch times\n",
        "n_epoch = 100\n",
        "# store the loss and the % correct at each epoch\n",
        "losses_train = np.zeros((n_epoch))\n",
        "errors_train = np.zeros((n_epoch))\n",
        "losses_test = np.zeros((n_epoch))\n",
        "errors_test = np.zeros((n_epoch))\n",
        "\n",
        "for epoch in range(n_epoch):\n",
        "  # loop over batches\n",
        "  for i, batch in enumerate(data_loader):\n",
        "    # retrieve inputs and labels for this batch\n",
        "    x_batch, y_batch = batch\n",
        "    # zero the parameter gradients\n",
        "    optimizer.zero_grad()\n",
        "    # forward pass -- calculate model output\n",
        "    pred = model(x_batch)\n",
        "    # compute the loss\n",
        "    loss = loss_function(pred, y_batch)\n",
        "    # backward pass\n",
        "    loss.backward()\n",
        "    # SGD update\n",
        "    optimizer.step()\n",
        "\n",
        "  # Run whole dataset to get statistics -- normally wouldn't do this\n",
        "  pred_train = model(x_train)\n",
        "  pred_test = model(x_test)\n",
        "  _, predicted_train_class = torch.max(pred_train.data, 1)\n",
        "  _, predicted_test_class = torch.max(pred_test.data, 1)\n",
        "  errors_train[epoch] = 100 - 100 * (predicted_train_class == y_train).float().sum() / len(y_train)\n",
        "  errors_test[epoch]= 100 - 100 * (predicted_test_class == y_test).float().sum() / len(y_test)\n",
        "  losses_train[epoch] = loss_function(pred_train, y_train).item()\n",
        "  losses_test[epoch]= loss_function(pred_test, y_test).item()\n",
        "  print(f'Epoch {epoch:5d}, train loss {losses_train[epoch]:.6f}, train error {errors_train[epoch]:3.2f},  test loss {losses_test[epoch]:.6f}, test error {errors_test[epoch]:3.2f}')\n",
        "\n",
        "  # tell scheduler to consider updating learning rate\n",
        "  scheduler.step()"
      ]
    },
    {
      "cell_type": "code",
      "execution_count": 11,
      "metadata": {
        "id": "yI-l6kA_EH9G",
        "colab": {
          "base_uri": "https://localhost:8080/",
          "height": 927
        },
        "outputId": "07cd152a-b65d-49d3-cd4a-748bf5ceb5fc"
      },
      "outputs": [
        {
          "output_type": "display_data",
          "data": {
            "text/plain": [
              "<Figure size 640x480 with 1 Axes>"
            ],
            "image/png": "[encoded data removed]"
          },
          "metadata": {}
        },
        {
          "output_type": "display_data",
          "data": {
            "text/plain": [
              "<Figure size 640x480 with 1 Axes>"
            ],
            "image/png": "[encoded data removed]"
          },
          "metadata": {}
        }
      ],
      "source": [
        "# Plot the results\n",
        "fig, ax = plt.subplots()\n",
        "ax.plot(errors_train,'r-',label='train')\n",
        "ax.plot(errors_test,'b-',label='test')\n",
        "ax.set_ylim(0,100); ax.set_xlim(0,n_epoch)\n",
        "ax.set_xlabel('Epoch'); ax.set_ylabel('Error')\n",
        "ax.set_title('TrainError %3.2f, Test Error %3.2f'%(errors_train[-1],errors_test[-1]))\n",
        "ax.legend()\n",
        "plt.show()\n",
        "\n",
        "# Plot the results\n",
        "fig, ax = plt.subplots()\n",
        "ax.plot(losses_train,'r-',label='train')\n",
        "ax.plot(losses_test,'b-',label='test')\n",
        "ax.set_xlim(0,n_epoch)\n",
        "ax.set_xlabel('Epoch'); ax.set_ylabel('Loss')\n",
        "ax.set_title('Train loss %3.2f, Test loss %3.2f'%(losses_train[-1],losses_test[-1]))\n",
        "ax.legend()\n",
        "plt.show()"
      ]
    },
    {
      "cell_type": "markdown",
      "metadata": {
        "id": "q-yT6re6GZS4"
      },
      "source": [
        "**TODO**\n",
        "\n",
        "Play with the model -- try changing the number of layers, hidden units, learning rate, batch size, momentum or anything else you like.  See if you can improve the test results.\n",
        "\n",
        "Is it a good idea to optimize the hyperparameters in this way?  Will the final result be a good estimate of the true test performance?"
      ]
    },
    {
      "cell_type": "code",
      "source": [
        "#Changed number of epoch and D_k value"
      ],
      "metadata": {
        "id": "rLhYmKI95VSK"
      },
      "execution_count": null,
      "outputs": []
    }
  ],
  "metadata": {
    "accelerator": "GPU",
    "colab": {
      "gpuType": "T4",
      "provenance": [],
      "include_colab_link": true
    },
    "kernelspec": {
      "display_name": "Python 3",
      "name": "python3"
    },
    "language_info": {
      "name": "python"
    }
  },
  "nbformat": 4,
  "nbformat_minor": 0
}
