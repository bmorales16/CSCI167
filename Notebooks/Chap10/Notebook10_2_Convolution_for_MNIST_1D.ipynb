{
  "nbformat": 4,
  "nbformat_minor": 0,
  "metadata": {
    "colab": {
      "provenance": [],
      "include_colab_link": true
    },
    "kernelspec": {
      "name": "python3",
      "display_name": "Python 3"
    },
    "language_info": {
      "name": "python"
    }
  },
  "cells": [
    {
      "cell_type": "markdown",
      "metadata": {
        "id": "view-in-github",
        "colab_type": "text"
      },
      "source": [
        "<a href=\"https://colab.research.google.com/github/bmorales16/CSCI167/blob/main/Notebook10_2_Convolution_for_MNIST_1D.ipynb\" target=\"_parent\"><img src=\"https://colab.research.google.com/assets/colab-badge.svg\" alt=\"Open In Colab\"/></a>"
      ]
    },
    {
      "cell_type": "markdown",
      "source": [
        "# **Notebook 10.2: Convolution for MNIST-1D**\n",
        "\n",
        "This notebook investigates a 1D convolutional network for MNIST-1D as in figure 10.7 and 10.8a.\n",
        "\n",
        "Work through the cells below, running each cell in turn. In various places you will see the words \"TODO\". Follow the instructions at these places and make predictions about what is going to happen or write code to complete the functions.\n",
        "\n",
        "Contact me at udlbookmail@gmail.com if you find any mistakes or have any suggestions.\n",
        "\n"
      ],
      "metadata": {
        "id": "t9vk9Elugvmi"
      }
    },
    {
      "cell_type": "code",
      "source": [
        "# Run this if you're in a Colab to install MNIST 1D repository\n",
        "!pip install git+https://github.com/greydanus/mnist1d"
      ],
      "metadata": {
        "id": "D5yLObtZCi9J",
        "colab": {
          "base_uri": "https://localhost:8080/"
        },
        "outputId": "66486c3b-3d0e-43a8-c794-5c0e7183c699"
      },
      "execution_count": 1,
      "outputs": [
        {
          "output_type": "stream",
          "name": "stdout",
          "text": [
            "Collecting git+https://github.com/greydanus/mnist1d\n",
            "  Cloning https://github.com/greydanus/mnist1d to /tmp/pip-req-build-i7rlzyhb\n",
            "  Running command git clone --filter=blob:none --quiet https://github.com/greydanus/mnist1d /tmp/pip-req-build-i7rlzyhb\n",
            "  Resolved https://github.com/greydanus/mnist1d to commit 7878d96082abd200c546a07a4101fa90b30fdf7e\n",
            "  Installing build dependencies ... \u001b[?25l\u001b[?25hdone\n",
            "  Getting requirements to build wheel ... \u001b[?25l\u001b[?25hdone\n",
            "  Preparing metadata (pyproject.toml) ... \u001b[?25l\u001b[?25hdone\n",
            "Requirement already satisfied: requests in /usr/local/lib/python3.12/dist-packages (from mnist1d==0.0.2.post16) (2.32.4)\n",
            "Requirement already satisfied: numpy in /usr/local/lib/python3.12/dist-packages (from mnist1d==0.0.2.post16) (2.0.2)\n",
            "Requirement already satisfied: matplotlib in /usr/local/lib/python3.12/dist-packages (from mnist1d==0.0.2.post16) (3.10.0)\n",
            "Requirement already satisfied: scipy in /usr/local/lib/python3.12/dist-packages (from mnist1d==0.0.2.post16) (1.16.3)\n",
            "Requirement already satisfied: contourpy>=1.0.1 in /usr/local/lib/python3.12/dist-packages (from matplotlib->mnist1d==0.0.2.post16) (1.3.3)\n",
            "Requirement already satisfied: cycler>=0.10 in /usr/local/lib/python3.12/dist-packages (from matplotlib->mnist1d==0.0.2.post16) (0.12.1)\n",
            "Requirement already satisfied: fonttools>=4.22.0 in /usr/local/lib/python3.12/dist-packages (from matplotlib->mnist1d==0.0.2.post16) (4.60.1)\n",
            "Requirement already satisfied: kiwisolver>=1.3.1 in /usr/local/lib/python3.12/dist-packages (from matplotlib->mnist1d==0.0.2.post16) (1.4.9)\n",
            "Requirement already satisfied: packaging>=20.0 in /usr/local/lib/python3.12/dist-packages (from matplotlib->mnist1d==0.0.2.post16) (25.0)\n",
            "Requirement already satisfied: pillow>=8 in /usr/local/lib/python3.12/dist-packages (from matplotlib->mnist1d==0.0.2.post16) (11.3.0)\n",
            "Requirement already satisfied: pyparsing>=2.3.1 in /usr/local/lib/python3.12/dist-packages (from matplotlib->mnist1d==0.0.2.post16) (3.2.5)\n",
            "Requirement already satisfied: python-dateutil>=2.7 in /usr/local/lib/python3.12/dist-packages (from matplotlib->mnist1d==0.0.2.post16) (2.9.0.post0)\n",
            "Requirement already satisfied: charset_normalizer<4,>=2 in /usr/local/lib/python3.12/dist-packages (from requests->mnist1d==0.0.2.post16) (3.4.4)\n",
            "Requirement already satisfied: idna<4,>=2.5 in /usr/local/lib/python3.12/dist-packages (from requests->mnist1d==0.0.2.post16) (3.11)\n",
            "Requirement already satisfied: urllib3<3,>=1.21.1 in /usr/local/lib/python3.12/dist-packages (from requests->mnist1d==0.0.2.post16) (2.5.0)\n",
            "Requirement already satisfied: certifi>=2017.4.17 in /usr/local/lib/python3.12/dist-packages (from requests->mnist1d==0.0.2.post16) (2025.10.5)\n",
            "Requirement already satisfied: six>=1.5 in /usr/local/lib/python3.12/dist-packages (from python-dateutil>=2.7->matplotlib->mnist1d==0.0.2.post16) (1.17.0)\n",
            "Building wheels for collected packages: mnist1d\n",
            "  Building wheel for mnist1d (pyproject.toml) ... \u001b[?25l\u001b[?25hdone\n",
            "  Created wheel for mnist1d: filename=mnist1d-0.0.2.post16-py3-none-any.whl size=14665 sha256=e77a99c2a264196fea20953bb440f5c19cb332b88d80c24b2a6a3fd331aa9ae0\n",
            "  Stored in directory: /tmp/pip-ephem-wheel-cache-oyal93fi/wheels/18/40/b6/29381fee9b4c80fdbc304d52bb065a7286bbcca5ca2b8737c0\n",
            "Successfully built mnist1d\n",
            "Installing collected packages: mnist1d\n",
            "Successfully installed mnist1d-0.0.2.post16\n"
          ]
        }
      ]
    },
    {
      "cell_type": "code",
      "source": [
        "import numpy as np\n",
        "import os\n",
        "import torch, torch.nn as nn\n",
        "from torch.utils.data import TensorDataset, DataLoader\n",
        "from torch.optim.lr_scheduler import StepLR\n",
        "import matplotlib.pyplot as plt\n",
        "import mnist1d\n",
        "import random"
      ],
      "metadata": {
        "id": "YrXWAH7sUWvU"
      },
      "execution_count": 2,
      "outputs": []
    },
    {
      "cell_type": "code",
      "source": [
        "args = mnist1d.data.get_dataset_args()\n",
        "data = mnist1d.data.get_dataset(args, path='./mnist1d_data.pkl', download=False, regenerate=False)\n",
        "\n",
        "# The training and test input and outputs are in\n",
        "# data['x'], data['y'], data['x_test'], and data['y_test']\n",
        "print(\"Examples in training set: {}\".format(len(data['y'])))\n",
        "print(\"Examples in test set: {}\".format(len(data['y_test'])))\n",
        "print(\"Length of each example: {}\".format(data['x'].shape[-1]))"
      ],
      "metadata": {
        "id": "twI72ZCrCt5z",
        "colab": {
          "base_uri": "https://localhost:8080/"
        },
        "outputId": "25ba9417-a866-42e8-bf62-61a3c5a76699"
      },
      "execution_count": 3,
      "outputs": [
        {
          "output_type": "stream",
          "name": "stdout",
          "text": [
            "Did or could not load data from ./mnist1d_data.pkl. Rebuilding dataset...\n",
            "Examples in training set: 4000\n",
            "Examples in test set: 1000\n",
            "Length of each example: 40\n"
          ]
        }
      ]
    },
    {
      "cell_type": "code",
      "source": [
        "# Load in the data\n",
        "train_data_x = data['x'].transpose()\n",
        "train_data_y = data['y']\n",
        "val_data_x = data['x_test'].transpose()\n",
        "val_data_y = data['y_test']\n",
        "# Print out sizes\n",
        "print(\"Train data: %d examples (columns), each of which has %d dimensions (rows)\"%((train_data_x.shape[1],train_data_x.shape[0])))\n",
        "print(\"Validation data: %d examples (columns), each of which has %d dimensions (rows)\"%((val_data_x.shape[1],val_data_x.shape[0])))"
      ],
      "metadata": {
        "id": "8bKADvLHbiV5",
        "colab": {
          "base_uri": "https://localhost:8080/"
        },
        "outputId": "b80ea46e-d26f-44a1-eb36-bfae84a2aff2"
      },
      "execution_count": 4,
      "outputs": [
        {
          "output_type": "stream",
          "name": "stdout",
          "text": [
            "Train data: 4000 examples (columns), each of which has 40 dimensions (rows)\n",
            "Validation data: 1000 examples (columns), each of which has 40 dimensions (rows)\n"
          ]
        }
      ]
    },
    {
      "cell_type": "markdown",
      "source": [
        "Define the network"
      ],
      "metadata": {
        "id": "_sFvRDGrl4qe"
      }
    },
    {
      "cell_type": "code",
      "source": [
        "# There are 40 input dimensions and 10 output dimensions for this data\n",
        "# The inputs correspond to the 40 offsets in the MNIST1D template.\n",
        "D_i = 40\n",
        "# The outputs correspond to the 10 digits\n",
        "D_o = 10\n",
        "\n",
        "\n",
        "# TODO Create a model with the following layers\n",
        "# 1. Convolutional layer, (input=length 40 and 1 channel, kernel size 3, stride 2, padding=\"valid\", 15 output channels )\n",
        "# 2. ReLU\n",
        "# 3. Convolutional layer, (input=length 19 and 15 channels, kernel size 3, stride 2, padding=\"valid\", 15 output channels )\n",
        "# 4. ReLU\n",
        "# 5. Convolutional layer, (input=length 9 and 15 channels, kernel size 3, stride 2, padding=\"valid\", 15 output channels)\n",
        "# 6. ReLU\n",
        "# 7. Flatten (converts 4x15) to length 60\n",
        "# 8. Linear layer (input size = 60, output size = 10)\n",
        "# References:\n",
        "# https://pytorch.org/docs/1.13/generated/torch.nn.Conv1d.html?highlight=conv1d#torch.nn.Conv1d\n",
        "# https://pytorch.org/docs/stable/generated/torch.nn.Flatten.html\n",
        "# https://pytorch.org/docs/1.13/generated/torch.nn.Linear.html?highlight=linear#torch.nn.Linear\n",
        "\n",
        "# NOTE THAT THE CONVOLUTIONAL LAYERS NEED TO TAKE THE NUMBER OF INPUT CHANNELS AS A PARAMETER\n",
        "# AND NOT THE INPUT SIZE.\n",
        "\n",
        "# Replace the following function:\n",
        "model = nn.Sequential(\n",
        "    nn.Conv1d(in_channels=1, out_channels=15, kernel_size=3, stride=2, padding=0),\n",
        "    nn.ReLU(),\n",
        "    nn.Conv1d(in_channels=15, out_channels=15, kernel_size=3, stride=2, padding=0),\n",
        "    nn.ReLU(),\n",
        "    nn.Conv1d(in_channels=15, out_channels=15, kernel_size=3, stride=2, padding=0),\n",
        "    nn.ReLU(),\n",
        "    nn.Flatten(),\n",
        "    nn.Linear(60,10)\n",
        ")\n",
        "\n",
        "\n",
        "\n"
      ],
      "metadata": {
        "id": "FslroPJJffrh"
      },
      "execution_count": 9,
      "outputs": []
    },
    {
      "cell_type": "code",
      "source": [
        "print(model)"
      ],
      "metadata": {
        "colab": {
          "base_uri": "https://localhost:8080/"
        },
        "id": "EkqNHkLigrqy",
        "outputId": "7a63fe9b-d251-47c3-959a-bfcd36d58cf9"
      },
      "execution_count": 10,
      "outputs": [
        {
          "output_type": "stream",
          "name": "stdout",
          "text": [
            "Sequential(\n",
            "  (0): Conv1d(1, 15, kernel_size=(3,), stride=(2,))\n",
            "  (1): ReLU()\n",
            "  (2): Conv1d(15, 15, kernel_size=(3,), stride=(2,))\n",
            "  (3): ReLU()\n",
            "  (4): Conv1d(15, 15, kernel_size=(3,), stride=(2,))\n",
            "  (5): ReLU()\n",
            "  (6): Flatten(start_dim=1, end_dim=-1)\n",
            "  (7): Linear(in_features=60, out_features=10, bias=True)\n",
            ")\n"
          ]
        }
      ]
    },
    {
      "cell_type": "code",
      "source": [
        "# He initialization of weights\n",
        "def weights_init(layer_in):\n",
        "  if isinstance(layer_in, nn.Linear):\n",
        "    nn.init.kaiming_uniform_(layer_in.weight)\n",
        "    layer_in.bias.data.fill_(0.0)"
      ],
      "metadata": {
        "id": "YgLaex1pfhqz"
      },
      "execution_count": 11,
      "outputs": []
    },
    {
      "cell_type": "code",
      "source": [
        "# choose cross entropy loss function (equation 5.24 in the loss notes)\n",
        "loss_function = nn.CrossEntropyLoss()\n",
        "# construct SGD optimizer and initialize learning rate and momentum\n",
        "optimizer = torch.optim.SGD(model.parameters(), lr = 0.05, momentum=0.9)\n",
        "# object that decreases learning rate by half every 20 epochs\n",
        "scheduler = StepLR(optimizer, step_size=20, gamma=0.5)\n",
        "# create 100 dummy data points and store in data loader class\n",
        "x_train = torch.tensor(train_data_x.transpose().astype('float32'))\n",
        "y_train = torch.tensor(train_data_y.astype('long')).long()\n",
        "x_val= torch.tensor(val_data_x.transpose().astype('float32'))\n",
        "y_val = torch.tensor(val_data_y.astype('long')).long()\n",
        "\n",
        "# load the data into a class that creates the batches\n",
        "data_loader = DataLoader(TensorDataset(x_train,y_train), batch_size=100, shuffle=True, worker_init_fn=np.random.seed(1))\n",
        "\n",
        "# Initialize model weights\n",
        "model.apply(weights_init)\n",
        "\n",
        "# loop over the dataset n_epoch times\n",
        "n_epoch = 100\n",
        "# store the loss and the % correct at each epoch\n",
        "losses_train = np.zeros((n_epoch))\n",
        "errors_train = np.zeros((n_epoch))\n",
        "losses_val = np.zeros((n_epoch))\n",
        "errors_val = np.zeros((n_epoch))\n",
        "\n",
        "for epoch in range(n_epoch):\n",
        "  # loop over batches\n",
        "  for i, data in enumerate(data_loader):\n",
        "    # retrieve inputs and labels for this batch\n",
        "    x_batch, y_batch = data\n",
        "    # zero the parameter gradients\n",
        "    optimizer.zero_grad()\n",
        "    # forward pass -- calculate model output\n",
        "    pred = model(x_batch[:,None,:])\n",
        "    # compute the loss\n",
        "    loss = loss_function(pred, y_batch)\n",
        "    # backward pass\n",
        "    loss.backward()\n",
        "    # SGD update\n",
        "    optimizer.step()\n",
        "\n",
        "  # Run whole dataset to get statistics -- normally wouldn't do this\n",
        "  pred_train = model(x_train[:,None,:])\n",
        "  pred_val = model(x_val[:,None,:])\n",
        "  _, predicted_train_class = torch.max(pred_train.data, 1)\n",
        "  _, predicted_val_class = torch.max(pred_val.data, 1)\n",
        "  errors_train[epoch] = 100 - 100 * (predicted_train_class == y_train).float().sum() / len(y_train)\n",
        "  errors_val[epoch]= 100 - 100 * (predicted_val_class == y_val).float().sum() / len(y_val)\n",
        "  losses_train[epoch] = loss_function(pred_train, y_train).item()\n",
        "  losses_val[epoch]= loss_function(pred_val, y_val).item()\n",
        "  print(f'Epoch {epoch:5d}, train loss {losses_train[epoch]:.6f}, train error {errors_train[epoch]:3.2f},  val loss {losses_val[epoch]:.6f}, percent error {errors_val[epoch]:3.2f}')\n",
        "\n",
        "  # tell scheduler to consider updating learning rate\n",
        "  scheduler.step()\n",
        "\n",
        "# Plot the results\n",
        "fig, ax = plt.subplots()\n",
        "ax.plot(errors_train,'r-',label='train')\n",
        "ax.plot(errors_val,'b-',label='validation')\n",
        "ax.set_ylim(0,100); ax.set_xlim(0,n_epoch)\n",
        "ax.set_xlabel('Epoch'); ax.set_ylabel('Error')\n",
        "ax.set_title('Part I: Validation Result %3.2f'%(errors_val[-1]))\n",
        "ax.legend()\n",
        "plt.show()"
      ],
      "metadata": {
        "id": "NYw8I_3mmX5c",
        "colab": {
          "base_uri": "https://localhost:8080/",
          "height": 1000
        },
        "outputId": "fa200eee-6e31-42b1-aab3-5489e9c9878c"
      },
      "execution_count": 12,
      "outputs": [
        {
          "output_type": "stream",
          "name": "stdout",
          "text": [
            "Epoch     0, train loss 1.818253, train error 71.90,  val loss 1.847703, percent error 74.50\n",
            "Epoch     1, train loss 1.437547, train error 55.70,  val loss 1.457613, percent error 60.60\n",
            "Epoch     2, train loss 1.381461, train error 55.58,  val loss 1.419827, percent error 59.70\n",
            "Epoch     3, train loss 1.296824, train error 53.28,  val loss 1.331615, percent error 56.20\n",
            "Epoch     4, train loss 1.184147, train error 50.60,  val loss 1.204186, percent error 51.80\n",
            "Epoch     5, train loss 1.076628, train error 44.08,  val loss 1.109798, percent error 46.30\n",
            "Epoch     6, train loss 1.013568, train error 41.58,  val loss 1.057986, percent error 43.00\n",
            "Epoch     7, train loss 0.956911, train error 40.40,  val loss 0.984982, percent error 41.60\n",
            "Epoch     8, train loss 0.856999, train error 35.53,  val loss 0.916419, percent error 39.30\n",
            "Epoch     9, train loss 0.900886, train error 35.18,  val loss 0.961847, percent error 36.10\n",
            "Epoch    10, train loss 0.706848, train error 28.05,  val loss 0.772500, percent error 33.20\n",
            "Epoch    11, train loss 0.666123, train error 24.65,  val loss 0.731558, percent error 29.10\n",
            "Epoch    12, train loss 0.562128, train error 21.97,  val loss 0.639329, percent error 25.20\n",
            "Epoch    13, train loss 0.538516, train error 20.68,  val loss 0.618930, percent error 24.80\n",
            "Epoch    14, train loss 0.452287, train error 17.53,  val loss 0.543341, percent error 20.00\n",
            "Epoch    15, train loss 0.529121, train error 18.43,  val loss 0.649521, percent error 22.40\n",
            "Epoch    16, train loss 0.357819, train error 13.95,  val loss 0.480355, percent error 16.50\n",
            "Epoch    17, train loss 0.336860, train error 12.38,  val loss 0.487855, percent error 17.50\n",
            "Epoch    18, train loss 0.296701, train error 11.30,  val loss 0.445240, percent error 14.90\n",
            "Epoch    19, train loss 0.307619, train error 11.50,  val loss 0.492996, percent error 16.10\n",
            "Epoch    20, train loss 0.204163, train error 6.90,  val loss 0.380560, percent error 12.60\n",
            "Epoch    21, train loss 0.185640, train error 6.45,  val loss 0.392778, percent error 13.20\n",
            "Epoch    22, train loss 0.178341, train error 6.03,  val loss 0.375948, percent error 11.80\n",
            "Epoch    23, train loss 0.205999, train error 7.57,  val loss 0.432823, percent error 13.10\n",
            "Epoch    24, train loss 0.202051, train error 7.28,  val loss 0.410656, percent error 13.70\n",
            "Epoch    25, train loss 0.162415, train error 5.60,  val loss 0.368632, percent error 11.40\n",
            "Epoch    26, train loss 0.165354, train error 6.03,  val loss 0.380817, percent error 11.10\n",
            "Epoch    27, train loss 0.147973, train error 5.15,  val loss 0.375381, percent error 12.30\n",
            "Epoch    28, train loss 0.134543, train error 4.47,  val loss 0.366658, percent error 11.40\n",
            "Epoch    29, train loss 0.129047, train error 4.45,  val loss 0.354268, percent error 10.40\n",
            "Epoch    30, train loss 0.128075, train error 4.22,  val loss 0.375054, percent error 11.50\n",
            "Epoch    31, train loss 0.152993, train error 5.10,  val loss 0.395614, percent error 11.70\n",
            "Epoch    32, train loss 0.125681, train error 4.28,  val loss 0.394004, percent error 12.50\n",
            "Epoch    33, train loss 0.186129, train error 7.07,  val loss 0.459629, percent error 11.70\n",
            "Epoch    34, train loss 0.119086, train error 4.30,  val loss 0.357737, percent error 10.40\n",
            "Epoch    35, train loss 0.122659, train error 4.18,  val loss 0.385187, percent error 10.90\n",
            "Epoch    36, train loss 0.095509, train error 2.88,  val loss 0.369665, percent error 11.00\n",
            "Epoch    37, train loss 0.101964, train error 3.25,  val loss 0.378646, percent error 10.60\n",
            "Epoch    38, train loss 0.134716, train error 4.68,  val loss 0.400508, percent error 11.20\n",
            "Epoch    39, train loss 0.090196, train error 2.85,  val loss 0.369655, percent error 9.60\n",
            "Epoch    40, train loss 0.075739, train error 2.12,  val loss 0.359249, percent error 9.50\n",
            "Epoch    41, train loss 0.071195, train error 1.93,  val loss 0.364250, percent error 10.10\n",
            "Epoch    42, train loss 0.066482, train error 1.90,  val loss 0.343878, percent error 10.30\n",
            "Epoch    43, train loss 0.069065, train error 1.88,  val loss 0.350422, percent error 9.80\n",
            "Epoch    44, train loss 0.062073, train error 1.35,  val loss 0.355520, percent error 10.00\n",
            "Epoch    45, train loss 0.061390, train error 1.47,  val loss 0.354096, percent error 9.40\n",
            "Epoch    46, train loss 0.064360, train error 1.70,  val loss 0.356174, percent error 9.10\n",
            "Epoch    47, train loss 0.060433, train error 1.32,  val loss 0.359385, percent error 9.70\n",
            "Epoch    48, train loss 0.060319, train error 1.60,  val loss 0.361678, percent error 9.30\n",
            "Epoch    49, train loss 0.057560, train error 1.45,  val loss 0.369353, percent error 9.70\n",
            "Epoch    50, train loss 0.061689, train error 1.78,  val loss 0.353759, percent error 10.40\n",
            "Epoch    51, train loss 0.054412, train error 1.18,  val loss 0.363332, percent error 9.60\n",
            "Epoch    52, train loss 0.051704, train error 1.03,  val loss 0.368011, percent error 9.40\n",
            "Epoch    53, train loss 0.051633, train error 1.15,  val loss 0.363097, percent error 9.50\n",
            "Epoch    54, train loss 0.050945, train error 1.18,  val loss 0.360889, percent error 9.60\n",
            "Epoch    55, train loss 0.048117, train error 1.07,  val loss 0.368329, percent error 9.70\n",
            "Epoch    56, train loss 0.050678, train error 0.95,  val loss 0.368520, percent error 9.70\n",
            "Epoch    57, train loss 0.047289, train error 1.03,  val loss 0.368354, percent error 9.60\n",
            "Epoch    58, train loss 0.047022, train error 1.05,  val loss 0.373148, percent error 9.20\n",
            "Epoch    59, train loss 0.043187, train error 0.85,  val loss 0.370486, percent error 9.70\n",
            "Epoch    60, train loss 0.040850, train error 0.80,  val loss 0.366707, percent error 9.30\n",
            "Epoch    61, train loss 0.042889, train error 0.82,  val loss 0.382015, percent error 9.30\n",
            "Epoch    62, train loss 0.039375, train error 0.68,  val loss 0.369714, percent error 9.60\n",
            "Epoch    63, train loss 0.038845, train error 0.60,  val loss 0.374184, percent error 9.30\n",
            "Epoch    64, train loss 0.038599, train error 0.78,  val loss 0.369892, percent error 9.50\n",
            "Epoch    65, train loss 0.037709, train error 0.53,  val loss 0.375545, percent error 9.30\n",
            "Epoch    66, train loss 0.037265, train error 0.68,  val loss 0.375608, percent error 9.10\n",
            "Epoch    67, train loss 0.036917, train error 0.62,  val loss 0.379573, percent error 9.30\n",
            "Epoch    68, train loss 0.036448, train error 0.60,  val loss 0.376434, percent error 9.30\n",
            "Epoch    69, train loss 0.036076, train error 0.60,  val loss 0.377588, percent error 9.60\n",
            "Epoch    70, train loss 0.036235, train error 0.60,  val loss 0.378203, percent error 9.60\n",
            "Epoch    71, train loss 0.034663, train error 0.50,  val loss 0.383078, percent error 9.40\n",
            "Epoch    72, train loss 0.034597, train error 0.55,  val loss 0.378479, percent error 9.50\n",
            "Epoch    73, train loss 0.033658, train error 0.47,  val loss 0.377762, percent error 9.40\n",
            "Epoch    74, train loss 0.034576, train error 0.72,  val loss 0.377896, percent error 9.80\n",
            "Epoch    75, train loss 0.033719, train error 0.65,  val loss 0.381899, percent error 9.60\n",
            "Epoch    76, train loss 0.032497, train error 0.55,  val loss 0.382072, percent error 9.40\n",
            "Epoch    77, train loss 0.032035, train error 0.53,  val loss 0.385295, percent error 9.70\n",
            "Epoch    78, train loss 0.032462, train error 0.55,  val loss 0.384192, percent error 9.50\n",
            "Epoch    79, train loss 0.031182, train error 0.50,  val loss 0.385854, percent error 9.70\n",
            "Epoch    80, train loss 0.031205, train error 0.40,  val loss 0.392087, percent error 9.30\n",
            "Epoch    81, train loss 0.030328, train error 0.40,  val loss 0.387976, percent error 9.30\n",
            "Epoch    82, train loss 0.030974, train error 0.38,  val loss 0.394999, percent error 9.30\n",
            "Epoch    83, train loss 0.030172, train error 0.47,  val loss 0.385432, percent error 9.40\n",
            "Epoch    84, train loss 0.029956, train error 0.53,  val loss 0.387749, percent error 9.40\n",
            "Epoch    85, train loss 0.030012, train error 0.40,  val loss 0.391643, percent error 9.40\n",
            "Epoch    86, train loss 0.029484, train error 0.40,  val loss 0.391373, percent error 9.30\n",
            "Epoch    87, train loss 0.029255, train error 0.45,  val loss 0.391428, percent error 9.40\n",
            "Epoch    88, train loss 0.030192, train error 0.55,  val loss 0.388391, percent error 9.60\n",
            "Epoch    89, train loss 0.028838, train error 0.40,  val loss 0.393359, percent error 9.20\n",
            "Epoch    90, train loss 0.028740, train error 0.43,  val loss 0.392255, percent error 9.40\n",
            "Epoch    91, train loss 0.028517, train error 0.40,  val loss 0.394160, percent error 9.40\n",
            "Epoch    92, train loss 0.028355, train error 0.45,  val loss 0.391504, percent error 9.30\n",
            "Epoch    93, train loss 0.028392, train error 0.35,  val loss 0.395718, percent error 9.10\n",
            "Epoch    94, train loss 0.028436, train error 0.38,  val loss 0.395971, percent error 9.20\n",
            "Epoch    95, train loss 0.027966, train error 0.43,  val loss 0.395615, percent error 9.30\n",
            "Epoch    96, train loss 0.027844, train error 0.40,  val loss 0.394032, percent error 9.50\n",
            "Epoch    97, train loss 0.027864, train error 0.43,  val loss 0.392530, percent error 9.50\n",
            "Epoch    98, train loss 0.027545, train error 0.45,  val loss 0.393643, percent error 9.40\n",
            "Epoch    99, train loss 0.027138, train error 0.38,  val loss 0.392998, percent error 9.40\n"
          ]
        },
        {
          "output_type": "display_data",
          "data": {
            "text/plain": [
              "<Figure size 640x480 with 1 Axes>"
            ],
            "image/png": "[encoded data removed]"
          },
          "metadata": {}
        }
      ]
    }
  ]
}
